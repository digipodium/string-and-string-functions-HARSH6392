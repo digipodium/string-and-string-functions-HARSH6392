{
  "nbformat": 4,
  "nbformat_minor": 0,
  "metadata": {
    "colab": {
      "name": "String01.ipynb",
      "provenance": []
    },
    "kernelspec": {
      "name": "python3",
      "display_name": "Python 3"
    },
    "language_info": {
      "name": "python"
    }
  },
  "cells": [
    {
      "cell_type": "markdown",
      "metadata": {
        "id": "hKsmedDdYFN2"
      },
      "source": [
        "1: Create a srting and print it.\n",
        "\n"
      ]
    },
    {
      "cell_type": "code",
      "metadata": {
        "colab": {
          "base_uri": "https://localhost:8080/"
        },
        "id": "wMqEwYZWX9R-",
        "outputId": "04aae1ae-f780-4733-c5e1-3bf14307a61b"
      },
      "source": [
        "s =\"I can't be a loser\"\n",
        "print(s)"
      ],
      "execution_count": null,
      "outputs": [
        {
          "output_type": "stream",
          "name": "stdout",
          "text": [
            "I can't be a loser\n"
          ]
        }
      ]
    },
    {
      "cell_type": "markdown",
      "metadata": {
        "id": "RB16BiQPYZdE"
      },
      "source": [
        "2: Take a string input and print it's length."
      ]
    },
    {
      "cell_type": "code",
      "metadata": {
        "colab": {
          "base_uri": "https://localhost:8080/"
        },
        "id": "DluKByvNYUIU",
        "outputId": "f78bc869-bfda-4fab-edc5-6b60ecb55cdf"
      },
      "source": [
        "i = str(input())\n",
        "print(len(i))"
      ],
      "execution_count": null,
      "outputs": [
        {
          "output_type": "stream",
          "name": "stdout",
          "text": [
            "happy\n",
            "5\n"
          ]
        }
      ]
    },
    {
      "cell_type": "markdown",
      "metadata": {
        "id": "aj80R0rrYrjD"
      },
      "source": [
        "3: Print the last word of the string Python is great using slices."
      ]
    },
    {
      "cell_type": "code",
      "metadata": {
        "colab": {
          "base_uri": "https://localhost:8080/"
        },
        "id": "ik2Ki9mIYhUE",
        "outputId": "8dda6862-87e3-4145-f0a1-cdf0e4587e16"
      },
      "source": [
        "s1 = \"life is good\"\n",
        "s2 = s1.split()\n",
        "print(s2[-1:])"
      ],
      "execution_count": null,
      "outputs": [
        {
          "output_type": "stream",
          "name": "stdout",
          "text": [
            "['good']\n"
          ]
        }
      ]
    },
    {
      "cell_type": "markdown",
      "metadata": {
        "id": "0MPP1NARZluR"
      },
      "source": [
        "4: Print the each word in different line of string python is everywhere."
      ]
    },
    {
      "cell_type": "code",
      "metadata": {
        "colab": {
          "base_uri": "https://localhost:8080/"
        },
        "id": "OwHPUVNCY44F",
        "outputId": "0caa0f2f-66c3-4604-bbdd-eaf9d3feee00"
      },
      "source": [
        "s3 =\"python is everywhere\"\n",
        "for word in s3.split():\n",
        "  print(word)"
      ],
      "execution_count": null,
      "outputs": [
        {
          "output_type": "stream",
          "name": "stdout",
          "text": [
            "python\n",
            "is\n",
            "everywhere\n"
          ]
        }
      ]
    },
    {
      "cell_type": "markdown",
      "metadata": {
        "id": "4QlT1HTjaRpS"
      },
      "source": [
        "5: Print the string Hello World! in reverse."
      ]
    },
    {
      "cell_type": "code",
      "metadata": {
        "colab": {
          "base_uri": "https://localhost:8080/"
        },
        "id": "ZVftjP8XZv3C",
        "outputId": "baf4a83f-b1a8-4dbe-8c37-3c1d77fc7a6a"
      },
      "source": [
        "s4 = \"Hello world!\"\n",
        "print(s4[::-1])"
      ],
      "execution_count": null,
      "outputs": [
        {
          "output_type": "stream",
          "name": "stdout",
          "text": [
            "!dlrow olleH\n"
          ]
        }
      ]
    },
    {
      "cell_type": "markdown",
      "metadata": {
        "id": "Cnyc_HLiacNi"
      },
      "source": [
        "6: Convert the string How are you? in uppercase."
      ]
    },
    {
      "cell_type": "code",
      "metadata": {
        "colab": {
          "base_uri": "https://localhost:8080/"
        },
        "id": "28xavj7zaX-y",
        "outputId": "39de788c-9dc2-4515-8f73-97848f4ebd8e"
      },
      "source": [
        "s5 = \"How are you? \"\n",
        "print(s5.upper())"
      ],
      "execution_count": null,
      "outputs": [
        {
          "output_type": "stream",
          "name": "stdout",
          "text": [
            "HOW ARE YOU? \n"
          ]
        }
      ]
    },
    {
      "cell_type": "markdown",
      "metadata": {
        "id": "tPKyewIEamr7"
      },
      "source": [
        "7: Convert the string How Is It Going? in lowercase."
      ]
    },
    {
      "cell_type": "code",
      "metadata": {
        "colab": {
          "base_uri": "https://localhost:8080/"
        },
        "id": "NBMl29hwakHD",
        "outputId": "bee5b678-e812-4318-cb3d-ca2121f7c16d"
      },
      "source": [
        "s6 = \" How Is It Going?  \"\n",
        "print(s6.lower())"
      ],
      "execution_count": null,
      "outputs": [
        {
          "output_type": "stream",
          "name": "stdout",
          "text": [
            " how is it going?  \n"
          ]
        }
      ]
    },
    {
      "cell_type": "markdown",
      "metadata": {
        "id": "fP9X87O_a3r0"
      },
      "source": [
        "8: Join the following list by spaces( ) and print the result.\n",
        "words = ['Python', 'is', 'easy', 'to', 'learn']"
      ]
    },
    {
      "cell_type": "code",
      "metadata": {
        "id": "Uy-ncB5maznZ"
      },
      "source": [
        "words = ['Python', 'is', 'easy', 'to', 'learn']\n"
      ],
      "execution_count": null,
      "outputs": []
    },
    {
      "cell_type": "markdown",
      "metadata": {
        "id": "CndHkzqGa96L"
      },
      "source": [
        "9:Print a multiline string using a single print"
      ]
    },
    {
      "cell_type": "code",
      "metadata": {
        "colab": {
          "base_uri": "https://localhost:8080/"
        },
        "id": "k6rJvLrEbBgR",
        "outputId": "98f6f579-ac6a-45bb-b33d-2145e4e2be06"
      },
      "source": [
        "s7 = ''' Heyy there is i am ;\n",
        "coding at last moment;\n",
        "i feel blue  right now '''\n",
        "print(s7)"
      ],
      "execution_count": null,
      "outputs": [
        {
          "output_type": "stream",
          "name": "stdout",
          "text": [
            " Heyy there is i am ;\n",
            "coding at last moment;\n",
            "i feel blue  right now \n"
          ]
        }
      ]
    },
    {
      "cell_type": "markdown",
      "metadata": {
        "id": "Qezd1gBibUdP"
      },
      "source": [
        "10: Print this string to move to newline '\\n' is used. (results should look\n",
        "exactly like the provided string)"
      ]
    },
    {
      "cell_type": "code",
      "metadata": {
        "colab": {
          "base_uri": "https://localhost:8080/"
        },
        "id": "kYJyTjjgbRrw",
        "outputId": "bcff7cee-d83b-443b-e1bc-9684d82c4441"
      },
      "source": [
        "s8 = \"to move to newline '\\\\n' is used.\"\n",
        "print(s8)"
      ],
      "execution_count": 54,
      "outputs": [
        {
          "output_type": "stream",
          "name": "stdout",
          "text": [
            "to move to newline '\\n' is used.\n"
          ]
        }
      ]
    },
    {
      "cell_type": "markdown",
      "metadata": {
        "id": "Qk7Nc7v9cBlY"
      },
      "source": [
        "11: Print a variable with some text using a single print function, output should look like following.\n",
        "the variable is 15"
      ]
    },
    {
      "cell_type": "code",
      "metadata": {
        "colab": {
          "base_uri": "https://localhost:8080/"
        },
        "id": "eSGD-18QblCS",
        "outputId": "e7b930ea-0664-4000-9f18-d777da002186"
      },
      "source": [
        "s = input()\n",
        "print(f\"the variable is {s}\")"
      ],
      "execution_count": null,
      "outputs": [
        {
          "output_type": "stream",
          "name": "stdout",
          "text": [
            "15\n",
            "the variable is 15\n"
          ]
        }
      ]
    },
    {
      "cell_type": "markdown",
      "metadata": {
        "id": "xrmb8LLHcRUG"
      },
      "source": [
        "12 : concatenate the following strings and print the result\n",
        "s1 = 'python '\n",
        "s2 = 'is '\n",
        "s3 = 'great.'"
      ]
    },
    {
      "cell_type": "code",
      "metadata": {
        "colab": {
          "base_uri": "https://localhost:8080/"
        },
        "id": "x2Oq3og5cKts",
        "outputId": "e9c75734-0e07-4bfc-a705-20f365dda90e"
      },
      "source": [
        "s1 = 'python '\n",
        "s2 = 'is '\n",
        "s3 = 'great.'\n",
        "print(s1+s2+s3)"
      ],
      "execution_count": null,
      "outputs": [
        {
          "output_type": "stream",
          "name": "stdout",
          "text": [
            "python is great.\n"
          ]
        }
      ]
    },
    {
      "cell_type": "markdown",
      "metadata": {
        "id": "bm37ueWJcecC"
      },
      "source": [
        "13: Print # 20 times without using a loop"
      ]
    },
    {
      "cell_type": "code",
      "metadata": {
        "colab": {
          "base_uri": "https://localhost:8080/"
        },
        "id": "ymIOfeqTcXvv",
        "outputId": "483dd1eb-eaba-46df-d541-b930c8c1cae5"
      },
      "source": [
        "print(\"# \"*20)"
      ],
      "execution_count": null,
      "outputs": [
        {
          "output_type": "stream",
          "name": "stdout",
          "text": [
            "# # # # # # # # # # # # # # # # # # # # \n"
          ]
        }
      ]
    },
    {
      "cell_type": "markdown",
      "metadata": {
        "id": "C1PHn-yMcsWL"
      },
      "source": [
        "14: Print numbers from 1 to 9, each on a seperate line, followed by a dot, output should look like the following-\n",
        "1.\n",
        "2.\n",
        "3.\n"
      ]
    },
    {
      "cell_type": "code",
      "metadata": {
        "colab": {
          "base_uri": "https://localhost:8080/"
        },
        "id": "uhgT6JRWciZj",
        "outputId": "124bf22e-172c-411e-a1b8-4482f9483d9a"
      },
      "source": [
        "n = \"1.\\n2.\\n3 \\n4.\\n5.\\n6.\\n7.\\n8.\\n9.\\n\"\n",
        "print(n)"
      ],
      "execution_count": null,
      "outputs": [
        {
          "output_type": "stream",
          "name": "stdout",
          "text": [
            "1.\n",
            "2.\n",
            "3 \n",
            "4.\n",
            "5.\n",
            "6.\n",
            "7.\n",
            "8.\n",
            "9.\n",
            "\n"
          ]
        }
      ]
    },
    {
      "cell_type": "markdown",
      "metadata": {
        "id": "lDMBL9bJdwzb"
      },
      "source": [
        "15: Ask user to input a sentence and print each word on a different line."
      ]
    },
    {
      "cell_type": "code",
      "metadata": {
        "colab": {
          "base_uri": "https://localhost:8080/"
        },
        "id": "sr9Z2Wx7dv6r",
        "outputId": "dd62e72c-c354-4699-86f8-224fbc0fcbf7"
      },
      "source": [
        "s9 = str(input())\n",
        "print(s9,sep= \"\\n\")"
      ],
      "execution_count": null,
      "outputs": [
        {
          "output_type": "stream",
          "name": "stdout",
          "text": [
            "happy is doing\n",
            "happy is doing\n"
          ]
        }
      ]
    },
    {
      "cell_type": "markdown",
      "metadata": {
        "id": "utEC5Kb8eb3J"
      },
      "source": [
        "16: Ask user to input a string and check if the string ends with '?'"
      ]
    },
    {
      "cell_type": "code",
      "metadata": {
        "colab": {
          "base_uri": "https://localhost:8080/"
        },
        "id": "v6LYD_jLc98N",
        "outputId": "27aeb118-3884-49c9-9139-cc4d9d9c29e3"
      },
      "source": [
        "s10 = str(input())\n",
        "if s10[-1] == \"?\":\n",
        "  print(\"valid\")"
      ],
      "execution_count": null,
      "outputs": [
        {
          "output_type": "stream",
          "name": "stdout",
          "text": [
            "happy is ?\n",
            "valid\n"
          ]
        }
      ]
    },
    {
      "cell_type": "markdown",
      "metadata": {
        "id": "1Dj3lOZqfG6N"
      },
      "source": [
        "17: Ask user to input a string and print how many times e appeared in the string"
      ]
    },
    {
      "cell_type": "code",
      "metadata": {
        "colab": {
          "base_uri": "https://localhost:8080/"
        },
        "id": "R7T953D4efwf",
        "outputId": "1f7b6219-9480-443f-c307-2541246d2730"
      },
      "source": [
        "s11 = str(input())\n",
        "if \"e\" in s11:\n",
        "  print(s11.count(\"e\"))"
      ],
      "execution_count": null,
      "outputs": [
        {
          "output_type": "stream",
          "name": "stdout",
          "text": [
            "hehe\n",
            "2\n"
          ]
        }
      ]
    },
    {
      "cell_type": "markdown",
      "metadata": {
        "id": "98LdjOEBsAfa"
      },
      "source": [
        "18 : Check if the user input is a number.\n"
      ]
    },
    {
      "cell_type": "code",
      "metadata": {
        "id": "y42dqQYHe9yY",
        "colab": {
          "base_uri": "https://localhost:8080/"
        },
        "outputId": "fa44b978-17e1-4f40-9d8e-5171365a99cc"
      },
      "source": [
        "s = input()\n",
        "if s.isnumeric():\n",
        "  print(\"it is numeric\")"
      ],
      "execution_count": null,
      "outputs": [
        {
          "output_type": "stream",
          "name": "stdout",
          "text": [
            "12\n",
            "it is numeric\n"
          ]
        }
      ]
    },
    {
      "cell_type": "markdown",
      "metadata": {
        "id": "VvC_4-J9so8e"
      },
      "source": [
        "19: Remove the extra spaces in beginning and in the end of the following string-\n",
        "text = '   this is not a good string           '\n"
      ]
    },
    {
      "cell_type": "code",
      "metadata": {
        "colab": {
          "base_uri": "https://localhost:8080/"
        },
        "id": "LE2i_pBOsJ1l",
        "outputId": "3516a159-333a-4d3c-e59f-9d8b7c7087b8"
      },
      "source": [
        "text = '     this is not a good string           '\n",
        "print(text.strip())\n"
      ],
      "execution_count": null,
      "outputs": [
        {
          "output_type": "stream",
          "name": "stdout",
          "text": [
            "this is not a good string\n"
          ]
        }
      ]
    },
    {
      "cell_type": "markdown",
      "metadata": {
        "id": "dR7cmBP0Fdbv"
      },
      "source": [
        "20: Ask user to input string, print found if any of the character is upper case.\n",
        "\n"
      ]
    },
    {
      "cell_type": "code",
      "metadata": {
        "id": "k64Upo4stujn",
        "colab": {
          "base_uri": "https://localhost:8080/"
        },
        "outputId": "dde5130b-3f1e-467c-9a1c-d0a7a2726cf0"
      },
      "source": [
        "str=input(\"Enter a string:\")\n",
        "for i in str:\n",
        "  if i.isupper():\n",
        "    print(\"found\")"
      ],
      "execution_count": 61,
      "outputs": [
        {
          "output_type": "stream",
          "name": "stdout",
          "text": [
            "Enter a string:happy Is HH\n",
            "found\n",
            "found\n",
            "found\n"
          ]
        }
      ]
    },
    {
      "cell_type": "markdown",
      "metadata": {
        "id": "e6VVce3KWElz"
      },
      "source": [
        "21: Extract names from the following string and store them in a list.\n"
      ]
    },
    {
      "cell_type": "code",
      "metadata": {
        "id": "GNoym6A4GEIM",
        "colab": {
          "base_uri": "https://localhost:8080/"
        },
        "outputId": "689219ae-dd52-4898-c12f-96614da63628"
      },
      "source": [
        "names = 'Joe, David, Mark, Tom, Chris, Robert'\n",
        "name = (list(names.split()))\n",
        "print(name)"
      ],
      "execution_count": 9,
      "outputs": [
        {
          "output_type": "stream",
          "name": "stdout",
          "text": [
            "['Joe,', 'David,', 'Mark,', 'Tom,', 'Chris,', 'Robert']\n"
          ]
        }
      ]
    },
    {
      "cell_type": "markdown",
      "metadata": {
        "id": "bXTC2uFuWgXr"
      },
      "source": [
        "22: In the following string, add aye in the end of every word and print the results.\n",
        "- text = 'this is some text'\n"
      ]
    },
    {
      "cell_type": "code",
      "metadata": {
        "id": "uclXmAOkLAl0",
        "colab": {
          "base_uri": "https://localhost:8080/"
        },
        "outputId": "3faaee5f-4024-411a-9337-22764b51d3bf"
      },
      "source": [
        "text = 'this is some text'\n",
        "for word in text.split():\n",
        "  print(word + \"aye\",end = \" \")"
      ],
      "execution_count": 36,
      "outputs": [
        {
          "output_type": "stream",
          "name": "stdout",
          "text": [
            "thisaye isaye someaye textaye "
          ]
        }
      ]
    },
    {
      "cell_type": "markdown",
      "metadata": {
        "id": "Nx-V7VuZaJ1P"
      },
      "source": [
        "23: ask user to enter a string and check if the string contains fyi\n"
      ]
    },
    {
      "cell_type": "code",
      "metadata": {
        "colab": {
          "base_uri": "https://localhost:8080/"
        },
        "id": "Ok_ob30_WJ2O",
        "outputId": "69c69b2a-d0b4-44c1-d740-bf84a89cc08e"
      },
      "source": [
        "string = str(input(\"enter string: \"))\n",
        "sub_string = \"fyi\"\n",
        "if sub_string in string:\n",
        "  print(\"found\")\n",
        "else:\n",
        "  print(\"fyi is not present\")\n"
      ],
      "execution_count": 40,
      "outputs": [
        {
          "output_type": "stream",
          "name": "stdout",
          "text": [
            "enter string: hiii  gyi fyi\n",
            "found\n"
          ]
        }
      ]
    },
    {
      "cell_type": "markdown",
      "metadata": {
        "id": "PYsyTQXna82e"
      },
      "source": [
        "24: Remove all the special characters and numbers from the following string\n"
      ]
    },
    {
      "cell_type": "code",
      "metadata": {
        "colab": {
          "base_uri": "https://localhost:8080/"
        },
        "id": "TTN0xFpaW1pq",
        "outputId": "e23b28ee-f7c0-4ab6-95b9-bc5a62ccfae2"
      },
      "source": [
        "s12 = ' !@#$%^&*()_-{}\":,?0123456789'\n",
        "text = '%p34@y!*-*!t68h#&on404'\n",
        "for c in text:\n",
        "  if c not in s12:\n",
        "    print(c,end=\"\")\n"
      ],
      "execution_count": 44,
      "outputs": [
        {
          "output_type": "stream",
          "name": "stdout",
          "text": [
            "python"
          ]
        }
      ]
    },
    {
      "cell_type": "markdown",
      "metadata": {
        "id": "NGp5u3RScHCi"
      },
      "source": [
        "25: calculate the average word length of the following paragraph.\n",
        "\"this is a paragraph which is written just for the purpose of providing content to let the average word length be calculated\"\n"
      ]
    },
    {
      "cell_type": "code",
      "metadata": {
        "colab": {
          "base_uri": "https://localhost:8080/"
        },
        "id": "UitqL31Kb0IF",
        "outputId": "96e0c2ed-f9ee-447d-c024-e6515d78ce25"
      },
      "source": [
        "sentence = \"Hi my name is Jeff Bezos\"\n",
        "words = sentence.split()\n",
        "average = sum(len(word) for word in words) / len(words)\n",
        "print(average)"
      ],
      "execution_count": 46,
      "outputs": [
        {
          "output_type": "stream",
          "name": "stdout",
          "text": [
            "3.1666666666666665\n"
          ]
        }
      ]
    },
    {
      "cell_type": "code",
      "metadata": {
        "id": "sG6SdgH0d_JZ"
      },
      "source": [
        ""
      ],
      "execution_count": null,
      "outputs": []
    }
  ]
}